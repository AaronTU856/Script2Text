{
 "cells": [
  {
   "cell_type": "code",
   "execution_count": 1,
   "id": "3ba8e961-caf8-44db-9e98-05c0ada3e3be",
   "metadata": {},
   "outputs": [
    {

     "name": "stderr",
     "output_type": "stream",
     "text": [
      "[ WARN:0@0.209] global loadsave.cpp:275 findDecoder imread_('/Users/aaronbaggot/Desktop/Script2Text/data/samples/handwritten_note.jpg'): can't open/read file: check file path/integrity\n"
     ]
    },
    {
     "ename": "Exception",
     "evalue": "Image not found: /Users/aaronbaggot/Desktop/Script2Text/data/samples/handwritten_note.jpg",
     "output_type": "error",
     "traceback": [
      "\u001b[31m---------------------------------------------------------------------------\u001b[39m",
      "\u001b[31mException\u001b[39m                                 Traceback (most recent call last)",
      "\u001b[36mCell\u001b[39m\u001b[36m \u001b[39m\u001b[32mIn[1]\u001b[39m\u001b[32m, line 15\u001b[39m\n\u001b[32m     13\u001b[39m I = cv2.imread(\u001b[38;5;28mstr\u001b[39m(img_path))\n\u001b[32m     14\u001b[39m \u001b[38;5;28;01mif\u001b[39;00m I \u001b[38;5;129;01mis\u001b[39;00m \u001b[38;5;28;01mNone\u001b[39;00m:\n\u001b[32m---> \u001b[39m\u001b[32m15\u001b[39m     \u001b[38;5;28;01mraise\u001b[39;00m \u001b[38;5;167;01mException\u001b[39;00m(\u001b[33mf\u001b[39m\u001b[33m\"\u001b[39m\u001b[33mImage not found: \u001b[39m\u001b[38;5;132;01m{\u001b[39;00mimg_path\u001b[38;5;132;01m}\u001b[39;00m\u001b[33m\"\u001b[39m)\n\u001b[32m     17\u001b[39m \u001b[38;5;66;03m# 1. grayscale\u001b[39;00m\n\u001b[32m     18\u001b[39m gray = cv2.cvtColor(I, cv2.COLOR_BGR2GRAY)\n",
      "\u001b[31mException\u001b[39m: Image not found: /Users/aaronbaggot/Desktop/Script2Text/data/samples/handwritten_note.jpg"

     ]
    }
   ],
   "source": [
    "# Script2Text - Step 1: Preprocessing\n",
    "\n",
    "import cv2\n",
    "import numpy as np\n",
    "from pathlib import Path\n",
    "import matplotlib.pyplot as plt\n",
    "\n",
    "# define paths\n",
    "ROOT = Path(__file__).resolve().parents[1] if \"__file__\" in globals() else Path.cwd().parents[0]\n",

    "\n",
    "# load image\n",
    "I = cv2.imread(str(img_path))\n",
    "if I is None:\n",
    "    raise Exception(f\"Image not found: {img_path}\")\n",
    "\n",
    "# 1. grayscale\n",
    "gray = cv2.cvtColor(I, cv2.COLOR_BGR2GRAY)\n",
    "\n",
    "# 2. threshold (Otsu binarization)\n",
    "_, thresh = cv2.threshold(gray, 0, 255, cv2.THRESH_BINARY + cv2.THRESH_OTSU)\n",
    "\n",
    "# 3. remove noise\n",
    "kernel = np.ones((2,2), np.uint8)\n",
    "clean = cv2.morphologyEx(thresh, cv2.MORPH_OPEN, kernel)\n",
    "\n",
    "# show results side by side\n",
    "plt.figure(figsize=(12,4))\n",
    "plt.subplot(1,3,1); plt.title(\"Gray\"); plt.imshow(gray, cmap=\"gray\"); plt.axis(\"off\")\n",
    "plt.subplot(1,3,2); plt.title(\"Threshold\"); plt.imshow(thresh, cmap=\"gray\"); plt.axis(\"off\")\n",
    "plt.subplot(1,3,3); plt.title(\"Clean\"); plt.imshow(clean, cmap=\"gray\"); plt.axis(\"off\")\n",
    "plt.tight_layout()\n",
    "plt.show()\n",
    "\n",
    "# save results for blog + repo\n",
    "output_dir = ROOT / \"output\"\n",
    "output_dir.mkdir(parents=True, exist_ok=True)\n",
    "cv2.imwrite(str(output_dir / \"step1_gray.jpg\"), gray)\n",
    "cv2.imwrite(str(output_dir / \"step2_thresh.jpg\"), thresh)\n",
    "cv2.imwrite(str(output_dir / \"step3_clean.jpg\"), clean)\n",
    "\n",
    "print(\"Saved preprocessing outputs in:\", output_dir)"
   ]
  },
  {
   "cell_type": "code",
   "execution_count": null,
   "id": "f5dee0c5-5198-4bd9-8c23-093f9ef44494",
   "metadata": {},
   "outputs": [],
   "source": []
  }
 ],
 "metadata": {
  "kernelspec": {
   "display_name": "imageproc",
   "language": "python",
   "name": "python3"
  },
  "language_info": {
   "codemirror_mode": {
    "name": "ipython",
    "version": 3
   },
   "file_extension": ".py",
   "mimetype": "text/x-python",
   "name": "python",
   "nbconvert_exporter": "python",
   "pygments_lexer": "ipython3",
   "version": "3.13.7"
  }
 },
 "nbformat": 4,
 "nbformat_minor": 5
}
