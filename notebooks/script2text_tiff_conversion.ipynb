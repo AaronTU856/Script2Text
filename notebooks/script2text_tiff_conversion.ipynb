{
 "cells": [
  {
   "cell_type": "code",
   "execution_count": 6,
   "id": "e1a4bdf3-d13a-40bc-94fa-8e700536736b",
   "metadata": {},
   "outputs": [],
   "source": [
    "# Step 2 – Loading and viewing a TIFF image in OpenCV\n",
    "# Author: Aaron Baggot\n",
    "# Description:\n",
    "# This short script loads one of our handwritten TIFF images, converts it to a format \n",
    "# OpenCV can work with, and displays it on the screen. It also saves a PNG copy \n",
    "# for easier use later on in preprocessing."
   ]
  },
  {
   "cell_type": "code",
   "execution_count": 7,
   "id": "3c7315ad-0c27-4008-af04-a9717c114145",
   "metadata": {},
   "outputs": [],
   "source": [
    "# Import libraries\n",
    "import cv2                # OpenCV for image processing\n",
    "import numpy as np        # NumPy for array manipulation\n",
    "from PIL import Image     # Pillow helps read TIFF images\n",
    "import os\n",
    "\n"
   ]
  },
  {
   "cell_type": "code",
   "execution_count": 8,
   "id": "d9466d91-b1da-4891-92b3-09cca720ba92",
   "metadata": {},
   "outputs": [],
   "source": [
    "# File path to the TIFF image\n",
    "img_path = \"/Users/aaronbaggot/Desktop/Script2Text/data/samples/Handwritten_2025-09-18_110153.tif\"\n",
    "\n",
    "# Step 1: Load the image\n",
    "# OpenCV sometimes struggles with TIFF files, so Pillow is used to open it first\n",
    "pil_img = Image.open(img_path)\n",
    "\n",
    "# Convert the Pillow image to a NumPy array so OpenCV can use it\n",
    "I = np.array(pil_img)\n"
   ]
  },
  {
   "cell_type": "code",
   "execution_count": 9,
   "id": "ec3d42c0-a8ee-409f-85bc-c0af4f1c6ccb",
   "metadata": {},
   "outputs": [
    {
     "name": "stdout",
     "output_type": "stream",
     "text": [
      "Image loaded successfully: (3142, 2146, 3)\n"
     ]
    }
   ],
   "source": [
    "# Step 2: Convert to OpenCV's BGR format \n",
    "# If the image is grayscale, we convert it to BGR (3 channels)\n",
    "if len(I.shape) == 2:\n",
    "    I = cv2.cvtColor(I, cv2.COLOR_GRAY2BGR)\n",
    "# If it's in RGB, convert to BGR (OpenCV uses BGR by default)\n",
    "else:\n",
    "    I = cv2.cvtColor(I, cv2.COLOR_RGB2BGR)\n",
    "\n",
    "print(\"Image loaded successfully:\", I.shape)"
   ]
  },
  {
   "cell_type": "code",
   "execution_count": null,
   "id": "8fa8e0ab-d1d5-41ba-b08e-bfb7f9546dd7",
   "metadata": {},
   "outputs": [],
   "source": [
    "# Step 3: Display the image \n",
    "cv2.imshow(\"Handwritten TIFF Image\", I)\n",
    "cv2.waitKey(0)\n",
    "cv2.destroyAllWindows()"
   ]
  },
  {
   "cell_type": "code",
   "execution_count": 5,
   "id": "f8b78a52-6e9a-41ad-936d-346d37f8b65b",
   "metadata": {},
   "outputs": [
    {
     "name": "stdout",
     "output_type": "stream",
     "text": [
      "PNG version saved successfully at: /Users/aaronbaggot/Desktop/Script2Text/data/samples/Handwritten_2025-09-18_110153.png\n"
     ]
    }
   ],
   "source": [
    "import os\n",
    "import cv2\n",
    "# Step 4: Save a copy as PNG\n",
    "# PNG is easier to handle in later stages of our project\n",
    "output_dir = \"/Users/aaronbaggot/Desktop/Script2Text/data/samples\"\n",
    "os.makedirs(output_dir, exist_ok=True)\n",
    "\n",
    "output_path = os.path.join(output_dir, \"Handwritten_2025-09-18_110153.png\")\n",
    "\n",
    "# Save the image\n",
    "success = cv2.imwrite(output_path, I)\n",
    "\n",
    "if success:\n",
    "    print(f\"PNG version saved successfully at: {output_path}\")\n",
    "else:\n",
    "    print(\"Error: Could not save PNG. Check file permissions or image data.\")"
   ]
  },
  {
   "cell_type": "code",
   "execution_count": null,
   "id": "fc4f5297-6286-4701-8847-fbdd40bd8ecc",
   "metadata": {},
   "outputs": [],
   "source": []
  },
  {
   "cell_type": "code",
   "execution_count": null,
   "id": "2d65029d-d6aa-4979-96a5-6f3c6457959d",
   "metadata": {},
   "outputs": [],
   "source": []
  },
  {
   "cell_type": "code",
   "execution_count": null,
   "id": "b5d7e60f-7179-41c2-8f0c-34c335599727",
   "metadata": {},
   "outputs": [],
   "source": []
  },
  {
   "cell_type": "code",
   "execution_count": null,
   "id": "39e772d7-ed02-4102-9c96-53fb2bc37cde",
   "metadata": {},
   "outputs": [],
   "source": []
  },
  {
   "cell_type": "code",
   "execution_count": null,
   "id": "ffcabace-b548-4e79-aec6-d7aed159e808",
   "metadata": {},
   "outputs": [],
   "source": []
  }
 ],
 "metadata": {
  "kernelspec": {
   "display_name": "Python 3 (ipykernel)",
   "language": "python",
   "name": "python3"
  },
  "language_info": {
   "codemirror_mode": {
    "name": "ipython",
    "version": 3
   },
   "file_extension": ".py",
   "mimetype": "text/x-python",
   "name": "python",
   "nbconvert_exporter": "python",
   "pygments_lexer": "ipython3",
   "version": "3.13.7"
  }
 },
 "nbformat": 4,
 "nbformat_minor": 5
}
